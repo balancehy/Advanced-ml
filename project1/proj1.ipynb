{
 "cells": [
  {
   "cell_type": "code",
   "execution_count": 1,
   "metadata": {},
   "outputs": [],
   "source": [
    "import numpy as np\n",
    "import pandas as pd\n",
    "from collections import deque\n",
    "from scipy.special import comb\n",
    "import copy"
   ]
  },
  {
   "cell_type": "markdown",
   "metadata": {},
   "source": [
    "# Data Preprocessing\n",
    "- There are $x_{1}$~$x_{6}$ six vairables in Bayesian network.\n",
    "- Read frequency of each event represented by each variable.\n",
    "- Calculate marginal and conditional probabilites for each variable"
   ]
  },
  {
   "cell_type": "code",
   "execution_count": 2,
   "metadata": {},
   "outputs": [],
   "source": [
    "# Marginal probability for each variable.Rows represent vairables, columns represent probabilities\n",
    "Px=[[78,1.5,5.5,15], # x1\n",
    "    [27.5,32,2.5,17,21], #x2\n",
    "    [18,66,16], #x3\n",
    "    [71.5,10.5,1,17], #x4\n",
    "    [37.5,11,10.5,41], #x5\n",
    "    [1.5,32,14,31.5,21]] #x6\n",
    "# Frequency for each value of each variable. Rows represent variables, columns represent values\n",
    "freqx=[[156,3,11,30],\n",
    "       [55,64,5,34,42],\n",
    "       [36,132,32],\n",
    "       [143,21,2,34],\n",
    "       [75,22,21,82],\n",
    "       [3,64,28,63,42]]\n",
    "# CPDs' frequency. Rows in CPDs are variable that probabilty is conditioned on. \n",
    "# Columns are variable whose probability should be determined\n",
    "P_x2_x1=[[36,57,4,27,32],\n",
    "         [2,0,0,0,1],\n",
    "         [5,1,0,2,3],\n",
    "         [12,6,1,5,6]]\n",
    "P_x4_x1=[[115,12,2,27],\n",
    "         [3,0,0,0],\n",
    "         [8,3,0,0],\n",
    "         [17,6,0,7]]\n",
    "P_x6_x1=[[3,44,20,55,34],\n",
    "         [0,2,1,0,0],\n",
    "         [0,6,1,2,2],\n",
    "         [0,12,6,6,6]]\n",
    "P_x3_x2=[[7,41,7],\n",
    "         [17,42,5],\n",
    "         [1,4,0],\n",
    "         [6,24,4],\n",
    "         [5,21,16]]\n",
    "P_x5_x2=[[23,4,6,22],\n",
    "         [22,7,8,27],\n",
    "         [3,2,0,0],\n",
    "         [13,5,4,12],\n",
    "         [14,4,3,21]]\n",
    "P_x2_x3=[[7,17,1,6,5],\n",
    "         [41,42,4,24,21],\n",
    "         [7,5,0,4,16]]\n",
    "P_x5_x3=[[13,3,8,12],\n",
    "         [52,15,12,53],\n",
    "         [10,4,1,17]]\n",
    "P_x6_x3=[[0,14,3,13,6],\n",
    "         [3,42,20,40,27],\n",
    "         [0,8,5,10,9]]\n",
    "P_x1_x4=[[115,3,8,17],\n",
    "         [12,0,3,6],\n",
    "         [2,0,0,0],\n",
    "         [27,0,0,7]]\n",
    "P_x2_x4=[[44,46,4,22,28],\n",
    "         [5,6,0,4,6],\n",
    "         [0,2,0,0,0],\n",
    "         [6,11,1,8,8]]\n",
    "P_x6_x4=[[3,40,22,47,31],\n",
    "         [0,12,3,4,2],\n",
    "         [0,0,0,1,1],\n",
    "         [0,12,3,11,8]]\n",
    "P_x2_x5=[[23,22,3,13,14],\n",
    "         [4,7,2,5,4],\n",
    "         [6,8,0,4,3],\n",
    "         [22,27,0,12,21]]\n",
    "P_x3_x5=[[13,52,10],\n",
    "         [3,15,4],\n",
    "         [8,12,1],\n",
    "         [12,53,17]]\n",
    "P_x1_x6=[[3,0,0,0],\n",
    "         [44,2,6,12],\n",
    "         [20,1,1,6],\n",
    "         [55,0,2,6],\n",
    "         [34,0,2,6]]\n",
    "P_x2_x6=[[0,1,0,2,0],\n",
    "         [18,19,0,15,12],\n",
    "         [6,11,0,4,7],\n",
    "         [20,20,5,6,12],\n",
    "         [11,13,0,7,11]]\n",
    "P_x3_x6=[[0,3,0],\n",
    "         [14,42,8],\n",
    "         [3,20,5],\n",
    "         [13,40,10],\n",
    "         [6,27,9]]\n",
    "P_x4_x6=[[3,0,0,0],       # x6=0\n",
    "         [40,12,0,12],# x6=1\n",
    "         [22,3,0,3],\n",
    "         [47,4,1,11],\n",
    "         [31,2,1,8]]"
   ]
  },
  {
   "cell_type": "code",
   "execution_count": 3,
   "metadata": {},
   "outputs": [],
   "source": [
    "# Divide element by 100\n",
    "def prepCPD(p):\n",
    "    for i in range(len(p)):\n",
    "        total=0\n",
    "        for j in range(len(p[0])):\n",
    "            total=total+p[i][j]\n",
    "        for j in range(len(p[0])):\n",
    "            p[i][j]=p[i][j]/total*100\n",
    "prepCPD(P_x2_x1)\n",
    "prepCPD(P_x4_x1)\n",
    "prepCPD(P_x6_x1)\n",
    "prepCPD(P_x3_x2)\n",
    "prepCPD(P_x5_x2)\n",
    "prepCPD(P_x2_x3)\n",
    "prepCPD(P_x5_x3)\n",
    "prepCPD(P_x6_x3)\n",
    "prepCPD(P_x1_x4)\n",
    "prepCPD(P_x2_x4)\n",
    "prepCPD(P_x6_x4)\n",
    "prepCPD(P_x2_x5)\n",
    "prepCPD(P_x3_x5)\n",
    "prepCPD(P_x1_x6)\n",
    "prepCPD(P_x2_x6)\n",
    "prepCPD(P_x3_x6)\n",
    "prepCPD(P_x4_x6)"
   ]
  },
  {
   "cell_type": "markdown",
   "metadata": {},
   "source": [
    "# Task 1\n",
    " Investigate the dependencies between different variables. The evaluation metrics are\n",
    "- Difference between two probabilies: $P(x_{1})*P(x_{2})$ and $P(x_{1},x_{2})$\n",
    "- Cross entropy or KL divergence"
   ]
  },
  {
   "cell_type": "code",
   "execution_count": 4,
   "metadata": {},
   "outputs": [],
   "source": [
    "#p(x1); p(x2); p(x3); p(x4); p(x5); p(x6)\n",
    "#p(x2|x1),p(x4|x1),p(x6|x1)\n",
    "#p(x3|x2),p(x5|x2)\n",
    "#p(x2|x3),p(x5|x3),p(x6|x3)\n",
    "#p(x1|x4),p(x2|x4),p(x6|x4)\n",
    "#p(x2|x5),p(x3|x5)\n",
    "#p(x1|x6),p(x2|x6),p(x3|x6),p(x4|x6)\n",
    "\n",
    "\n",
    "def getJointMul(Px,var_prefix):# return dict whose keys are \"x1_x2\" like strings,values are probability matrix\n",
    "    J_x_J_y={}\n",
    "    for i in range(0,len(Px)-1):# enumerate distribiton of two variables\n",
    "        for j in range(i+1,len(Px)):\n",
    "            x=Px[i]\n",
    "            y=Px[j]\n",
    "            out=np.zeros((len(x),len(y)))\n",
    "            for u in range(0,len(x)):\n",
    "                for v in range(0,len(y)):\n",
    "                    out[u][v]=x[u]/100*y[v]/100\n",
    "            s=var_prefix+str(i+1)+\"_\"+var_prefix+str(j+1)\n",
    "            J_x_J_y[s]=out\n",
    "    return J_x_J_y\n",
    "\n",
    "\n",
    "def getJointfromCPD(cpd_label,cpd_value,var_label,Px):#return a pair whose first is joint probability dict and second is label dict\n",
    "    J_x_y={}\n",
    "    J_x_y_label={}\n",
    "    for i in range(0,len(cpd_value)): # enumerate all the given CPDs\n",
    "        label=cpd_label[i][1] # ith cpd's parent label\n",
    "        index=var_label[label] # parent node's index in Px\n",
    "        x=Px[index]\n",
    "        y=cpd_value[i]\n",
    "        out=np.zeros((len(y),len(y[0])))\n",
    "        for u in range(0,len(y)):       # calculate joint probability from CPDs and prior\n",
    "            for v in range(0,len(y[0])):\n",
    "                out[u][v]=y[u][v]/100*x[u]/100\n",
    "        a=cpd_label[i][0] \n",
    "        b=cpd_label[i][1]\n",
    "        if int(a[1])<int(b[1]): # last char in x1,x2 ... in first sublabel.Save \"x1_x2\",\"x2_x3\" in acceding order of last char\n",
    "            name=a+\"_\"+b\n",
    "            out=out.T\n",
    "        else:\n",
    "            name=b+\"_\"+a\n",
    "        if name in J_x_y:\n",
    "            J_x_y[name].append(out)\n",
    "            J_x_y_label[name].append((a,b))\n",
    "        else:\n",
    "            J_x_y[name]=[out]\n",
    "            J_x_y_label[name]=[(a,b)]\n",
    "    return J_x_y,J_x_y_label\n",
    "def AbsDiffCal(J_x_y,J_x_J_y):#return dict whose keys are \"x1_x2\" like strings, values are sum of absolute difference\n",
    "    abs_probdiff={}\n",
    "    for key, val in J_x_y.items():\n",
    "        mul=J_x_J_y[key]\n",
    "        temp=[]\n",
    "        for i in range(0,len(val)):\n",
    "            temp.append(np.sum(np.abs(mul-val[i])))\n",
    "        abs_probdiff[key]=temp\n",
    "    return abs_probdiff\n",
    "def CrossEntropyCal(J_x_y,J_x_J_y): # cross entropy H(J_x_y,J_x_J_y),return corrsponding cross entropy, entropy of J_x_y and KL divergence\n",
    "    crossentropy={}\n",
    "    entropy={}\n",
    "    KLdiv={}\n",
    "    for key, val in J_x_y.items():\n",
    "        mul=J_x_J_y[key]\n",
    "        temp_cross=[]\n",
    "        temp_entropy=[]\n",
    "        temp_KL=[]\n",
    "        for i in range(0,len(val)): # -J_x_y*log(J_x_J_y)\n",
    "            a=np.sum(-val[i]*np.log(mul))\n",
    "            b=np.sum(-val[i]*np.log(val[i]+1e-10)) # add small value to avoid zero element\n",
    "            temp_cross.append(a)\n",
    "            temp_entropy.append(b)\n",
    "            temp_KL.append(a-b)\n",
    "        crossentropy[key]=temp_cross\n",
    "        entropy[key]=temp_entropy\n",
    "        KLdiv[key]=temp_KL\n",
    "    return crossentropy,entropy,KLdiv\n",
    "def packIndicator(indicator,J_x_y_label):# format joint probability as a list of tuples\n",
    "    out=[]\n",
    "    for key,val in indicator.items():\n",
    "        a=indicator[key]\n",
    "        b=J_x_y_label[key]\n",
    "        for i in range(len(a)):\n",
    "            out.append(([b[i][0],b[i][1]],a[i]))# ([x1,x2],value) x2 is vairable to be conditioned on(parent)\n",
    "    return out"
   ]
  },
  {
   "cell_type": "markdown",
   "metadata": {},
   "source": [
    "### Calculate joint probabilites"
   ]
  },
  {
   "cell_type": "code",
   "execution_count": 5,
   "metadata": {},
   "outputs": [],
   "source": [
    "# Set maps to check variables and CPDs convienently\n",
    "var_label={\"x1\":0,\"x2\":1,\"x3\":2,\"x4\":3,\"x5\":4,\"x6\":5}\n",
    "cpd_label=[[\"x2\",\"x1\"],[\"x4\",\"x1\"],[\"x6\",\"x1\"],# cpd formate [child,parent]\n",
    "      [\"x3\",\"x2\"],[\"x5\",\"x2\"],\n",
    "      [\"x2\",\"x3\"],[\"x5\",\"x3\"],[\"x6\",\"x3\"],\n",
    "      [\"x1\",\"x4\"],[\"x2\",\"x4\"],[\"x6\",\"x4\"],\n",
    "      [\"x2\",\"x5\"],[\"x3\",\"x5\"],\n",
    "      [\"x1\",\"x6\"],[\"x2\",\"x6\"],[\"x3\",\"x6\"],[\"x4\",\"x6\"]]\n",
    "cpd_value=[P_x2_x1,P_x4_x1,P_x6_x1,# cpd matrix associatd with cpd_label\n",
    "           P_x3_x2,P_x5_x2,\n",
    "           P_x2_x3,P_x5_x3,P_x6_x3,\n",
    "           P_x1_x4,P_x2_x4,P_x6_x4,\n",
    "           P_x2_x5,P_x3_x5,\n",
    "           P_x1_x6,P_x2_x6,P_x3_x6,P_x4_x6]\n",
    "J_x_J_y=getJointMul(Px,\"x\")# get joint probabilities from the distribution of two variables\n",
    "J_x_y,J_x_y_label=getJointfromCPD(cpd_label,cpd_value,var_label,Px)#get joint probability from CPDs"
   ]
  },
  {
   "cell_type": "markdown",
   "metadata": {},
   "source": [
    "### Calculate the sum of absolute difference between two distributions"
   ]
  },
  {
   "cell_type": "code",
   "execution_count": 6,
   "metadata": {
    "scrolled": true
   },
   "outputs": [
    {
     "name": "stdout",
     "output_type": "stream",
     "text": [
      "The sum of absolution difference: \n",
      "\n"
     ]
    },
    {
     "data": {
      "text/plain": [
       "{'x1_x2': [0.1599999999999999],\n",
       " 'x1_x4': [0.1196500000000001, 0.1196499999999999],\n",
       " 'x1_x6': [0.16059999999999997, 0.16060000000000002],\n",
       " 'x2_x3': [0.2182, 0.2182],\n",
       " 'x2_x5': [0.12935000000000002, 0.12935],\n",
       " 'x3_x5': [0.11560000000000004, 0.11560000000000001],\n",
       " 'x3_x6': [0.09480000000000005, 0.09480000000000005],\n",
       " 'x2_x4': [0.11496666666666663],\n",
       " 'x4_x6': [0.1431999999999999, 0.14319999999999997],\n",
       " 'x2_x6': [0.17489999999999997]}"
      ]
     },
     "execution_count": 6,
     "metadata": {},
     "output_type": "execute_result"
    }
   ],
   "source": [
    "# Calculate the sum of absolute difference between two distributions\n",
    "abs_probdiff=AbsDiffCal(J_x_y,J_x_J_y)\n",
    "print(\"The sum of absolution difference: \\n\")\n",
    "abs_probdiff"
   ]
  },
  {
   "cell_type": "markdown",
   "metadata": {},
   "source": [
    "### Calculate the cross entropy and KL divergence between two distributions"
   ]
  },
  {
   "cell_type": "code",
   "execution_count": 7,
   "metadata": {
    "scrolled": false
   },
   "outputs": [
    {
     "name": "stdout",
     "output_type": "stream",
     "text": [
      "Cross entropy: \n"
     ]
    },
    {
     "data": {
      "text/plain": [
       "{'x1_x2': [2.1417169464090473],\n",
       " 'x1_x4': [1.5246824882710392, 1.524682488271039],\n",
       " 'x1_x6': [2.095375554775694, 2.095375554775694],\n",
       " 'x2_x3': [2.3169472413698804, 2.3169472413698804],\n",
       " 'x2_x5': [2.6536452038621077, 2.6536452038621077],\n",
       " 'x3_x5': [2.0889318510341783, 2.0889318510341783],\n",
       " 'x3_x6': [2.270605849736527, 2.270605849736527],\n",
       " 'x2_x4': [2.263147821840503],\n",
       " 'x4_x6': [2.2182847444264477, 2.2182847444264477],\n",
       " 'x2_x6': [2.835319202564456]}"
      ]
     },
     "execution_count": 7,
     "metadata": {},
     "output_type": "execute_result"
    }
   ],
   "source": [
    "\n",
    "cross_entropy,entropy,KLdiv=CrossEntropyCal(J_x_y,J_x_J_y)\n",
    "print(\"Cross entropy: \")\n",
    "cross_entropy\n"
   ]
  },
  {
   "cell_type": "code",
   "execution_count": 8,
   "metadata": {},
   "outputs": [
    {
     "name": "stdout",
     "output_type": "stream",
     "text": [
      "KL divergence: \n"
     ]
    },
    {
     "data": {
      "text/plain": [
       "{'x1_x2': [0.03529820100078451],\n",
       " 'x1_x4': [0.034483748101127976, 0.034483748101127754],\n",
       " 'x1_x6': [0.03203018671021729, 0.032030186710217734],\n",
       " 'x2_x3': [0.0543844819396222, 0.0543844819396222],\n",
       " 'x2_x5': [0.02944271775630458, 0.029442717756304138],\n",
       " 'x3_x5': [0.02141460301494469, 0.021414603014944245],\n",
       " 'x3_x6': [0.015071043569599318, 0.015071043569599762],\n",
       " 'x2_x4': [0.023907520718517983],\n",
       " 'x4_x6': [0.0321562548314005, 0.0321562548314005],\n",
       " 'x2_x6': [0.058283030589045826]}"
      ]
     },
     "execution_count": 8,
     "metadata": {},
     "output_type": "execute_result"
    }
   ],
   "source": [
    "print(\"KL divergence: \")\n",
    "KLdiv"
   ]
  },
  {
   "cell_type": "markdown",
   "metadata": {},
   "source": [
    "### Sort by KL divergence"
   ]
  },
  {
   "cell_type": "code",
   "execution_count": 9,
   "metadata": {},
   "outputs": [
    {
     "data": {
      "text/plain": [
       "[(['x2', 'x6'], 0.058283030589045826),\n",
       " (['x3', 'x2'], 0.0543844819396222),\n",
       " (['x2', 'x3'], 0.0543844819396222),\n",
       " (['x2', 'x1'], 0.03529820100078451),\n",
       " (['x4', 'x1'], 0.034483748101127976),\n",
       " (['x1', 'x4'], 0.034483748101127754),\n",
       " (['x6', 'x4'], 0.0321562548314005),\n",
       " (['x4', 'x6'], 0.0321562548314005),\n",
       " (['x1', 'x6'], 0.032030186710217734),\n",
       " (['x6', 'x1'], 0.03203018671021729),\n",
       " (['x5', 'x2'], 0.02944271775630458),\n",
       " (['x2', 'x5'], 0.029442717756304138),\n",
       " (['x2', 'x4'], 0.023907520718517983),\n",
       " (['x5', 'x3'], 0.02141460301494469),\n",
       " (['x3', 'x5'], 0.021414603014944245),\n",
       " (['x3', 'x6'], 0.015071043569599762),\n",
       " (['x6', 'x3'], 0.015071043569599318)]"
      ]
     },
     "execution_count": 9,
     "metadata": {},
     "output_type": "execute_result"
    }
   ],
   "source": [
    "\n",
    "import operator\n",
    "KLdiv_list=packIndicator(KLdiv,J_x_y_label)\n",
    "KLdiv_sorted=sorted(KLdiv_list, key=lambda tup: tup[1],reverse=True)\n",
    "KLdiv_sorted"
   ]
  },
  {
   "cell_type": "markdown",
   "metadata": {},
   "source": [
    "### Sort by cross entropy"
   ]
  },
  {
   "cell_type": "code",
   "execution_count": 10,
   "metadata": {},
   "outputs": [
    {
     "data": {
      "text/plain": [
       "[(['x2', 'x6'], 2.835319202564456),\n",
       " (['x5', 'x2'], 2.6536452038621077),\n",
       " (['x2', 'x5'], 2.6536452038621077),\n",
       " (['x3', 'x2'], 2.3169472413698804),\n",
       " (['x2', 'x3'], 2.3169472413698804),\n",
       " (['x6', 'x3'], 2.270605849736527),\n",
       " (['x3', 'x6'], 2.270605849736527),\n",
       " (['x2', 'x4'], 2.263147821840503),\n",
       " (['x6', 'x4'], 2.2182847444264477),\n",
       " (['x4', 'x6'], 2.2182847444264477),\n",
       " (['x2', 'x1'], 2.1417169464090473),\n",
       " (['x6', 'x1'], 2.095375554775694),\n",
       " (['x1', 'x6'], 2.095375554775694),\n",
       " (['x5', 'x3'], 2.0889318510341783),\n",
       " (['x3', 'x5'], 2.0889318510341783),\n",
       " (['x4', 'x1'], 1.5246824882710392),\n",
       " (['x1', 'x4'], 1.524682488271039)]"
      ]
     },
     "execution_count": 10,
     "metadata": {},
     "output_type": "execute_result"
    }
   ],
   "source": [
    "\n",
    "cross_entropy_list=packIndicator(cross_entropy,J_x_y_label)\n",
    "cross_entropy_sorted=sorted(cross_entropy_list, key=lambda tup: tup[1],reverse=True)\n",
    "cross_entropy_sorted"
   ]
  },
  {
   "cell_type": "markdown",
   "metadata": {},
   "source": [
    "# Task 2\n",
    "- Based on the dependency results from Task1, construct Bayesian network\n",
    "- Sample from each Bayesian network to evaluate the likelihood score"
   ]
  },
  {
   "cell_type": "code",
   "execution_count": 11,
   "metadata": {},
   "outputs": [],
   "source": [
    "def getCPDmap(cpd_label,cpd_value):#return a dict whose keys are cpd labels and values are cpd matrix\n",
    "    hashmap={}    \n",
    "    for i in range(len(cpd_label)):\n",
    "        cpd=np.array(cpd_value[i])/100\n",
    "        name=cpd_label[i][0]+cpd_label[i][1]\n",
    "        hashmap[name]=cpd\n",
    "    return hashmap\n",
    "def getPxtoaddCPD(Px):# return nested list of marginal probabilities for each value of each variable\n",
    "    Pxlist=[]\n",
    "    for row in Px:\n",
    "        temp=[]\n",
    "        for var in row:\n",
    "            temp.append([var/100])\n",
    "        Pxlist.append(temp)\n",
    "    return Pxlist\n",
    "def getCPDlist(cpd_hashmap,var_pair):# transpose cpd matrix to make rows child variable and columns parent variable\n",
    "    name=var_pair[0]+var_pair[1]\n",
    "    cpd=cpd_hashmap[name]\n",
    "    cpd_transpose=np.array(cpd).T.tolist() # each row corresponds to the value of child variable\n",
    "    return cpd_transpose\n",
    "def addCPDs(model,model_var,cpd_hashmap,Px,allvar,var_prior):\n",
    "    hashmap={} # help store previously added marginal probability\n",
    "    tables=[]\n",
    "    for i in range(len(model_var)):\n",
    "        if len(model_var[i])==2:\n",
    "            var_child=model_var[i][0] # variable string\n",
    "            var_par=model_var[i][1]\n",
    "            i_child=allvar[var_child] # index in Px(marginal probability matrix)\n",
    "            i_par=allvar[var_par]\n",
    "            state_child=Px[i_child] # one row of Px\n",
    "            state_par=Px[i_par]\n",
    "            # Add  conditional probability\n",
    "            cpd_list=getCPDlist(cpd_hashmap,[var_child,var_par])\n",
    "            table=TabularCPD(var_child, len(state_child), values=cpd_list,\n",
    "                          evidence=[var_par], evidence_card=[len(state_par)])\n",
    "    #         tables.append(table)\n",
    "            model.add_cpds(table)\n",
    "    #         print(table)\n",
    "            hashmap[var_child]=True\n",
    "    # Add prior probability(parent)\n",
    "    for i in range(len(var_prior)):\n",
    "        var_par=var_prior[i]\n",
    "        i_par=allvar[var_par]\n",
    "        state_par=Px[i_par]\n",
    "#         print(var_par,state_par)\n",
    "        if var_par not in hashmap: # variable is not stored\n",
    "            hashmap[var_par]=True\n",
    "            table=TabularCPD(var_par, len(state_par), values=state_par)\n",
    "            model.add_cpds(table)\n",
    "#             tables.append(table)\n",
    "#         print(table)\n",
    "#     print(tables)\n",
    "#     model.add_cpds(*tables)\n",
    "    return model\n",
    "def toplsort(model_var):#return topologically ordered nodes and all parent nodes\n",
    "    numparent={}\n",
    "    q=deque([])\n",
    "    parents=[]\n",
    "    for edge in model_var:\n",
    "        if len(edge)==2:\n",
    "            child=edge[0]\n",
    "            parent=edge[1]\n",
    "            if child not in numparent:\n",
    "                numparent[child]=1\n",
    "            else:\n",
    "                numparent[child]=numparent[child]+1\n",
    "        else:\n",
    "            parent=edge[0]  # single parent, directly marked as parent\n",
    "        if parent not in numparent:\n",
    "            numparent[parent]=0 \n",
    "    \n",
    "    for key,val in numparent.items(): # append parent node to parents list\n",
    "        if val==0:\n",
    "            q.append(key)\n",
    "            parents.append(key)\n",
    "#     for edge in model_var:\n",
    "#         if len(edge)==1:\n",
    "#             parents.append(edge[0])\n",
    "    ordered={}\n",
    "    \n",
    "    while len(q)!=0:\n",
    "        par=q.popleft()\n",
    "#         ordered.append(par)\n",
    "        for edge in model_var:\n",
    "            if len(edge)==1:\n",
    "                ordered[edge[0]]=[]\n",
    "                continue\n",
    "            if edge[1]==par:\n",
    "                if edge[1] not in ordered:\n",
    "                    ordered[edge[1]]=[edge[0]]\n",
    "                else:\n",
    "                    ordered[edge[1]].append(edge[0])\n",
    "                numparent[edge[0]]=numparent[edge[0]]-1\n",
    "                if numparent[edge[0]]==0:\n",
    "                    q.append(edge[0])\n",
    "#         print(q)\n",
    "    return ordered,parents\n",
    "\n",
    "def addnodes(model_var):#format edges and parent node in a way that are compatible with building Bayesian network\n",
    "    edge=[]\n",
    "    parent=[]\n",
    "    for tup in model_var:\n",
    "        if len(tup)==2:\n",
    "            edge.append((tup[1],tup[0]))# (parent,child)\n",
    "        else:\n",
    "            parent.append(tup[0])# single parent node\n",
    "    return edge,parent\n",
    "def getSampleMarginal(data,allvar):# calculate the marginal probability based on sampled data\n",
    "    prob=[]\n",
    "    for key,value in allvar.items():\n",
    "        prob_temp=[]\n",
    "        if key in data.columns:\n",
    "            arr=np.array(data[key]) # extract column in dataframe according to key {x1,x2,x3,...}\n",
    "            values=np.unique(arr)\n",
    "            for i in range(values.shape[0]):\n",
    "                freq=np.where(arr==i)[0].shape[0]\n",
    "                prob_temp.append(freq/arr.shape[0]*100)\n",
    "        prob.append(prob_temp)\n",
    "    return prob\n",
    "def getLikelihood(freq_truth,marg_fit):#calculate ratio between sampled likelihood and true likelihood\n",
    "    freq_array=np.array(freq_truth)\n",
    "    marg_array=np.array(marg_fit)\n",
    "    num=marg_array.shape[0]\n",
    "    out=np.zeros((num,))\n",
    "    for i in range(num):\n",
    "        if len(marg_array[i])==0: # treat the missing variable's likelihood as zero\n",
    "            out[i]=0\n",
    "            continue\n",
    "        product=1\n",
    "        prob=marg_array[i] # calculate marginal\n",
    "        freq=freq_array[i] # ground truth frequency\n",
    "        n=sum(freq)\n",
    "        for j in range(len(prob)):\n",
    "            factor=comb(n,freq[j])\n",
    "            product=product*factor*((prob[j]/100)**freq[j])\n",
    "            n=n-freq[j]\n",
    "        out[i]=product\n",
    "    return out\n",
    "def orderDataframe(df,allvar):#return dataframe of sampled data whose column order is [x1,x2,x3,x4,x5,x6,x7]\n",
    "    arr=np.array(df)\n",
    "    keys=[]\n",
    "    index=0\n",
    "    for key,value in allvar.items():\n",
    "        if key in df.columns:\n",
    "            arr[:,index]=np.array(df[key])\n",
    "            keys.append(key)\n",
    "            index=index+1\n",
    "    return pd.DataFrame(arr,columns=keys)\n",
    "def ssd(q_markov,q_bay,var):#return the sum of squared difference between queried probabiliteies in Bayesian and Markov models\n",
    "    total=0\n",
    "    for j in range(len(q_bay)):\n",
    "        q_b=q_bay[j]\n",
    "        q_m=q_markov[j]\n",
    "        for i in range(len(var)):\n",
    "            v=var[i]\n",
    "            sd=(np.sum(q_m[v].values-q_b[v].values))**2\n",
    "            total+=sd\n",
    "    return total\n",
    "def inferencecal(var,evid,inferobj,var_value):#return a list of query result based on the given evidence\n",
    "    querylist=[]\n",
    "    for i in range(var_value[evid]):\n",
    "        q=inferobj.query(variables=var,evidence={evid:i})#pgmpy inference command\n",
    "        querylist.append(q)\n",
    "    return querylist\n",
    "def getBestmodel(result):\n",
    "    best=-1e20\n",
    "    \n",
    "    for i in range(len(result)):\n",
    "        if result[i][2]>best:\n",
    "            best=result[i][2]\n",
    "            best_index=i\n",
    "    return best_index\n",
    "def getBestfeature(Px,edges,cpd_label,cpd_value,mode):#loop all combinations of variables to find the most and least probable one\n",
    "    cpd_hashmap=getCPDmap(cpd_label,cpd_value)\n",
    "    indexlist=np.array([0,0,0,0,0,0])# pointer iterating the value of each variable\n",
    "    best_var_value=np.array([0,0,0,0,0,0])\n",
    "    ordered,var_root=toplsort(edges) # find all parents of the graph\n",
    "    if mode==\"max\":# find the most probable\n",
    "        best_probability=-1\n",
    "    elif mode==\"min\":# find the least probable\n",
    "        best_probability=2\n",
    "    while indexlist[0]<len(Px[0]):\n",
    "        indexlist[1:-1]=0 # reset the pointer in the inner loop\n",
    "        while indexlist[1]<len(Px[1]):\n",
    "            indexlist[2:-1]=0\n",
    "            while indexlist[2]<len(Px[2]):\n",
    "                indexlist[3:-1]=0\n",
    "                while indexlist[3]<len(Px[3]):\n",
    "                    indexlist[4:-1]=0\n",
    "                    while indexlist[4]<len(Px[4]):\n",
    "                        indexlist[5]=0\n",
    "                        while indexlist[5]<len(Px[5]):\n",
    "                            prod=1\n",
    "                            for edge in edges:# multiply all CPDs under this combination of variable values\n",
    "                                if len(edge)==1:\n",
    "                                    continue\n",
    "                                else:\n",
    "                                    parent=edge[1]\n",
    "                                    child=edge[0]\n",
    "                                    name=child+parent\n",
    "                                    cpd=cpd_hashmap[name]\n",
    "                                    val_par=indexlist[allvar[parent]]\n",
    "                                    val_child=indexlist[allvar[child]]\n",
    "                                    prod*=cpd[val_par][val_child]\n",
    "                            for prior in var_root:# multiply all the prior probabilities\n",
    "                                val_par=indexlist[allvar[prior]]\n",
    "                                prod*=Px[allvar[prior]][val_par]/100\n",
    "                            if mode==\"max\":\n",
    "                                if prod>best_probability:\n",
    "                                    best_probability=prod\n",
    "                                    best_var_value=copy.copy(indexlist)\n",
    "                            elif mode==\"min\":\n",
    "                                if prod>0 and prod<best_probability:\n",
    "                                    best_probability=prod\n",
    "                                    best_var_value=copy.copy(indexlist)\n",
    "                            indexlist[5]+=1\n",
    "                        indexlist[4]+=1\n",
    "                    indexlist[3]+=1\n",
    "                indexlist[2]+=1\n",
    "            indexlist[1]+=1\n",
    "        indexlist[0]+=1\n",
    "    return best_probability,best_var_value"
   ]
  },
  {
   "cell_type": "markdown",
   "metadata": {},
   "source": [
    "### Defining a Bayesian network\n",
    "- Input is a list of tuples containing connections between variables.\n",
    "- Output is pgmpy model object"
   ]
  },
  {
   "cell_type": "code",
   "execution_count": 12,
   "metadata": {
    "scrolled": true
   },
   "outputs": [],
   "source": [
    "from pgmpy.inference import VariableElimination\n",
    "from pgmpy.models import BayesianModel\n",
    "from pgmpy.factors.discrete import TabularCPD\n",
    "from pgmpy.sampling import BayesianModelSampling\n",
    "from pgmpy.estimators import K2Score\n",
    "from pgmpy.estimators import BicScore\n",
    "import time\n",
    "# graphs contains all models represented by a graph. Each tuple in the list is (Child, parent)\n",
    "graphs=[\n",
    "[('x2','x6'),('x4','x6'),('x1','x4'),('x3','x2'),('x5','x3')],\n",
    "[('x2','x6'),('x1','x6'),('x4','x1'),('x3','x2'),('x5','x2')],\n",
    "[('x6','x1'),('x4','x6'),('x2','x6'),('x3','x2'),('x5','x2')],\n",
    "[('x1','x6'),('x6','x4'),('x2','x6'),('x3','x2'),('x5','x2')],\n",
    "[('x4','x6'),('x2','x6'),('x1','x4'),('x5','x2'),('x3','x2')],\n",
    "[('x3','x6'),('x1','x6'),('x6','x4'),('x2','x6'),('x5','x2')],\n",
    "[('x3','x6'),('x2','x6'),('x4','x6'),('x6','x1'),('x5','x2')],\n",
    "[('x1','x6'),('x2','x6'),('x4','x6'),('x6','x3'),('x5','x2')],\n",
    "[('x2','x6'),('x4','x6'),('x6','x3'),('x1','x4'),('x5','x2')],\n",
    "[('x2','x6'),('x3','x2'),('x4','x1'),('x6','x4'),('x5','x2')],\n",
    "[('x6', 'x1'),('x5', 'x3'),('x2', 'x4')],\n",
    "[('x4','x1'),('x3','x5'),('x2',),('x6',)]]\n",
    "# allvar contains all the variables used in the model and their index in Px(marginal probabiltiy matrix)\n",
    "allvar={\"x1\":0,\"x2\":1,\"x3\":2,\"x4\":3,\"x5\":4,\"x6\":5}\n",
    "\n",
    "# makeModel returns a list of tuples. Each tuple is (model, likelihood ratio, K2 score)\n",
    "def makeModel(graphs,allvar,samplenum):\n",
    "    out=[]\n",
    "    cpd_hashmap=getCPDmap(cpd_label,cpd_value)# get CPD map for all given CPDs\n",
    "    Pxinlist=getPxtoaddCPD(Px) # get marginal probabiltiy(Px divided by 100)\n",
    "    for i in range(len(graphs)):\n",
    "        model_var=graphs[i] # get model graph\n",
    "        \n",
    "        ordered,var_prior=toplsort(model_var) # var_prior is probability of all parent nodes\n",
    "        model_edge,single_parent=addnodes(model_var) # find all edges and single parent node\n",
    "#         print(var_prior)\n",
    "        mymodel=BayesianModel(model_edge)# add edges\n",
    "        for parent in single_parent:# add single parent node\n",
    "            mymodel.add_node(parent)\n",
    "#         print(mymodel.edges())\n",
    "        mymodel=addCPDs(mymodel,model_var,cpd_hashmap,Pxinlist,allvar,var_prior)\n",
    "        sample=BayesianModelSampling(mymodel)\n",
    "        df_sample=sample.forward_sample(size=samplenum)# draw sample from one model\n",
    "        marg_sample=getSampleMarginal(df_sample,allvar)# calculate marginal probability of each variable\n",
    "        lh_truth=getLikelihood(freqx,Px) # likelihood of ground truth\n",
    "        lh_sample=getLikelihood(freqx,marg_sample) # likelihood of sampled data\n",
    "#         print(lh_sample)\n",
    "        lh_ratio=lh_sample/lh_truth\n",
    "        \n",
    "        out.append((mymodel,lh_ratio,K2Score(orderDataframe(df_sample,allvar)).score(mymodel)))\n",
    "#         out.append((mymodel,np.prod(lh_ratio),K2Score(orderDataframe(df_sample,allvar)).score(mymodel)))#\n",
    "    return out\n",
    "\n"
   ]
  },
  {
   "cell_type": "code",
   "execution_count": 13,
   "metadata": {
    "scrolled": false
   },
   "outputs": [],
   "source": [
    "######### This result may be different for each run since the sampling is random ###############\n",
    "result=makeModel(graphs,allvar,2000)# sample 2000 from each model, calculate likelihood ratio and K2 score\n"
   ]
  },
  {
   "cell_type": "markdown",
   "metadata": {},
   "source": [
    "### Plot likelihood ratio and K2 score"
   ]
  },
  {
   "cell_type": "code",
   "execution_count": 15,
   "metadata": {},
   "outputs": [
    {
     "data": {
      "image/png": "[encoded data removed]",
      "text/plain": [
       "<Figure size 576x432 with 2 Axes>"
      ]
     },
     "metadata": {
      "needs_background": "light"
     },
     "output_type": "display_data"
    }
   ],
   "source": [
    "import matplotlib.pyplot as plt\n",
    "yplot=[]\n",
    "xplot=[]\n",
    "yplot2=[]\n",
    "\n",
    "for i in range(len(result)):\n",
    "    yplot.append(result[i][2])\n",
    "    xplot.append(\"G\"+str(i+1))\n",
    "    yplot2.append(np.prod(result[i][1]))\n",
    "plt.figure(figsize=(8,6))\n",
    "ax1 = plt.subplot(1,1,1)\n",
    "ax1.plot(xplot,yplot,color='b',marker='o',label=\"K2 score\")\n",
    "ax1.set_xlabel(\"Graph\", fontsize=15)\n",
    "ax1.set_ylabel(\"k2 score\", fontsize=15)\n",
    "ax1.tick_params(labelsize=12)\n",
    "ax1.legend(fontsize=15)\n",
    "ax2 = ax1.twinx()\n",
    "ax2.plot(xplot,yplot2,color='r',marker='*',label=\"Likelihood\")\n",
    "ax2.set_ylabel(\"Likelihood\", fontsize=15)\n",
    "ax2.tick_params(labelsize=12)\n",
    "ax2.legend(fontsize=15)\n",
    "plt.show()\n"
   ]
  },
  {
   "cell_type": "markdown",
   "metadata": {},
   "source": [
    "### The most and least probable combination of variables "
   ]
  },
  {
   "cell_type": "code",
   "execution_count": 16,
   "metadata": {},
   "outputs": [
    {
     "name": "stdout",
     "output_type": "stream",
     "text": [
      "The most probable varaibles:  (0.018702748124235728, array([0, 0, 1, 0, 0, 3]))\n",
      "The least probable varaibles:  (8.963204763986013e-07, array([1, 1, 2, 0, 1, 0]))\n"
     ]
    }
   ],
   "source": [
    "# choose the 10th graph as best model\n",
    "print(\"The most probable varaibles: \",getBestfeature(Px,graphs[9],cpd_label,cpd_value,\"max\"))\n",
    "print(\"The least probable varaibles: \",getBestfeature(Px,graphs[9],cpd_label,cpd_value,\"min\"))"
   ]
  },
  {
   "cell_type": "markdown",
   "metadata": {},
   "source": [
    "# Task 3"
   ]
  },
  {
   "cell_type": "code",
   "execution_count": 17,
   "metadata": {},
   "outputs": [],
   "source": [
    "index=9 # select the index of best model in result list\n",
    "best_model_bay=result[index][0] # best bayesian model\n",
    "best_model_markov=best_model_bay.to_markov_model() # best Markov model\n",
    "var_value={'x1':4,'x2':5,'x3':3,'x4':4,'x5':4,'x6':5} # value for all variables"
   ]
  },
  {
   "cell_type": "code",
   "execution_count": 18,
   "metadata": {},
   "outputs": [
    {
     "name": "stderr",
     "output_type": "stream",
     "text": [
      "/Users/huo/.pyvenv/pgmpy/lib/python3.6/site-packages/pgmpy-0.1.7-py3.6.egg/pgmpy/factors/discrete/DiscreteFactor.py:586: FutureWarning: Using a non-tuple sequence for multidimensional indexing is deprecated; use `arr[tuple(seq)]` instead of `arr[seq]`. In the future this will be interpreted as an array index, `arr[np.array(seq)]`, which will result either in an error or a different result.\n",
      "  phi.values = phi.values[slice_]\n",
      "/Users/huo/.pyvenv/pgmpy/lib/python3.6/site-packages/pgmpy-0.1.7-py3.6.egg/pgmpy/factors/discrete/DiscreteFactor.py:598: FutureWarning: Using a non-tuple sequence for multidimensional indexing is deprecated; use `arr[tuple(seq)]` instead of `arr[seq]`. In the future this will be interpreted as an array index, `arr[np.array(seq)]`, which will result either in an error or a different result.\n",
      "  phi1.values = phi1.values[slice_]\n"
     ]
    },
    {
     "name": "stdout",
     "output_type": "stream",
     "text": [
      "---Markov network: 1.0632848739624023 seconds ---\n"
     ]
    }
   ],
   "source": [
    "# Evaluate Markov model, computing time may be different for each run\n",
    "start_time=time.time()\n",
    "for i in range(10):\n",
    "    inference_markov=VariableElimination(best_model_markov)\n",
    "    q_markov=inferencecal(['x1','x2','x3','x4','x5'],'x6',inference_markov,var_value)\n",
    "print(\"---Markov network: %s seconds ---\" % (time.time() - start_time))\n"
   ]
  },
  {
   "cell_type": "code",
   "execution_count": 19,
   "metadata": {},
   "outputs": [
    {
     "name": "stdout",
     "output_type": "stream",
     "text": [
      "---Bayesian network: 1.0269381999969482 seconds ---\n"
     ]
    }
   ],
   "source": [
    "# Evaluate Bayesian model, computing time may be different for each run\n",
    "start_time=time.time()\n",
    "for i in range(10):\n",
    "    inference_bay=VariableElimination(best_model_bay)\n",
    "    q_bay=inferencecal(['x1','x2','x3','x4','x5'],'x6',inference_bay,var_value)\n",
    "print(\"---Bayesian network: %s seconds ---\" % (time.time() - start_time))"
   ]
  },
  {
   "cell_type": "code",
   "execution_count": 20,
   "metadata": {},
   "outputs": [
    {
     "name": "stdout",
     "output_type": "stream",
     "text": [
      "The sum of squared difference between Bayesian and Markov model 4.81482486096809e-35\n"
     ]
    }
   ],
   "source": [
    "# The inference difference\n",
    "print(\"The sum of squared difference between Bayesian and Markov model\",ssd(q_markov,q_bay,['x1','x2','x3','x4','x5']))\n"
   ]
  },
  {
   "cell_type": "markdown",
   "metadata": {},
   "source": [
    "# Task 4\n",
    "- Use pgmpy build-in structural learning to find best topology of Bayesian network\n",
    "- Based on the \"best\" toplogy construct several networks and evaluate their likelihood"
   ]
  },
  {
   "cell_type": "code",
   "execution_count": 21,
   "metadata": {
    "scrolled": true
   },
   "outputs": [],
   "source": [
    "df=pd.read_csv(\"AND-Features.csv\") # Dataframe of AND features\n",
    "df=df.drop(columns=[\"Unnamed: 0\",\"img_id\"])\n"
   ]
  },
  {
   "cell_type": "code",
   "execution_count": 22,
   "metadata": {},
   "outputs": [],
   "source": [
    "def getTruefreq(df):\n",
    "    freqlist=[]\n",
    "    for index in df.columns:\n",
    "        data=np.array(df[index])\n",
    "        values=np.unique(data)\n",
    "        onefreq=[]\n",
    "        for val in values:\n",
    "            freq=np.where(data==val)[0].shape[0]\n",
    "            onefreq.append(freq)\n",
    "            \n",
    "        freqlist.append(onefreq)\n",
    "    return freqlist\n",
    "def getLikelihood_log(freq_truth,marg_fit):#calculate ratio between sampled likelihood and true likelihood\n",
    "    freq_array=np.array(freq_truth)\n",
    "    marg_array=np.array(marg_fit)\n",
    "    num=marg_array.shape[0]\n",
    "    out=np.zeros((num,))\n",
    "    for i in range(num):\n",
    "        if len(marg_array[i])==0: # treat the missing variable's likelihood as zero\n",
    "            out[i]=0\n",
    "            continue\n",
    "        product=1\n",
    "        sums=0\n",
    "        prob=marg_array[i] # calculate marginal\n",
    "        freq=freq_array[i] # ground truth frequency\n",
    "        n=np.sum(freq)\n",
    "        \n",
    "        for j in range(len(prob)):\n",
    "#             print(n,j)\n",
    "            factor=comb(n,freq[j])\n",
    "#             product=product*factor*(prob[j]**freq[j])\n",
    "            sums=sums+np.log(factor)+freq[j]*np.log(prob[j])\n",
    "            n=n-freq[j]\n",
    "#         out[i]=product\n",
    "            out[i]=sums\n",
    "    return out"
   ]
  },
  {
   "cell_type": "markdown",
   "metadata": {},
   "source": [
    "### Search for best model"
   ]
  },
  {
   "cell_type": "code",
   "execution_count": 23,
   "metadata": {},
   "outputs": [
    {
     "name": "stdout",
     "output_type": "stream",
     "text": [
      "K2 score of three models:  -9462.704892371388 -9482.609140296396 -9475.69673132839\n",
      "Bic score of three models:  -9592.191583228434 -9530.944116866705 -9552.837194293083\n",
      "Bdeu score of three models:  -9477.81619275221 -9472.662816252163 -9464.872419813964\n"
     ]
    }
   ],
   "source": [
    "from pgmpy.estimators import HillClimbSearch, ExhaustiveSearch, BicScore,BdeuScore\n",
    "est = HillClimbSearch(df, scoring_method=K2Score(df)) # using K2 score search\n",
    "best_model_K2 = est.estimate()\n",
    "est = HillClimbSearch(df, scoring_method=BicScore(df))# using Bic score search\n",
    "best_model_Bic=est.estimate()\n",
    "est = HillClimbSearch(df, scoring_method=BdeuScore(df))# using Bdeu score search\n",
    "best_model_Bdeu=est.estimate()\n",
    "\n",
    "print(\"K2 score of three models: \",K2Score(df).score(best_model_K2),K2Score(df).score(best_model_Bic),K2Score(df).score(best_model_Bdeu))\n",
    "print(\"Bic score of three models: \",BicScore(df).score(best_model_K2),BicScore(df).score(best_model_Bic),BicScore(df).score(best_model_Bdeu))\n",
    "print(\"Bdeu score of three models: \",BdeuScore(df).score(best_model_K2),BdeuScore(df).score(best_model_Bic),BdeuScore(df).score(best_model_Bdeu))\n"
   ]
  },
  {
   "cell_type": "code",
   "execution_count": 24,
   "metadata": {},
   "outputs": [
    {
     "data": {
      "text/plain": [
       "OutEdgeView([('f3', 'f4'), ('f3', 'f9'), ('f3', 'f8'), ('f5', 'f9'), ('f5', 'f3'), ('f9', 'f8'), ('f9', 'f7'), ('f9', 'f1'), ('f9', 'f6'), ('f9', 'f2'), ('f9', 'f4')])"
      ]
     },
     "execution_count": 24,
     "metadata": {},
     "output_type": "execute_result"
    }
   ],
   "source": [
    "# Print the edges of best esitmated model using K2 score\n",
    "best_model_K2.edges()"
   ]
  },
  {
   "cell_type": "markdown",
   "metadata": {},
   "source": [
    "### Synthesize model"
   ]
  },
  {
   "cell_type": "code",
   "execution_count": 25,
   "metadata": {},
   "outputs": [
    {
     "name": "stdout",
     "output_type": "stream",
     "text": [
      "K2 score of synthesized models [-9686.408332971836, -9812.991321901833, -9758.18135402707, -9681.7477463154, -9884.639630515157, -9815.419375135185]\n"
     ]
    }
   ],
   "source": [
    "graph_AND=[[('f1','f2'),('f2','f3'),('f3','f4'),('f4','f5'),('f5','f6'),('f6','f7'),('f7','f8'),('f8','f9')],\n",
    "           [('f1','f2'),('f2','f3'),('f2','f4'),('f4','f5'),('f4','f6'),('f6','f7'),('f7','f8'),('f8','f9')],\n",
    "           [('f4','f3'),('f3','f9'),('f9','f6'),('f6','f7'),('f7','f5'),('f5','f1'),('f1','f2'),('f2','f8')],\n",
    "           [('f9','f8'),('f8','f7'),('f7','f6'),('f6','f5'),('f5','f4'),('f4','f3'),('f3','f2'),('f2','f1')],\n",
    "           [('f1','f2'),('f1','f3'),('f2','f4'),('f2','f5'),('f3','f6'),('f3','f7'),('f4','f8'),('f4','f9')],\n",
    "           ]\n",
    "\n",
    "def synthesizemodel(graph_AND):\n",
    "    score=[]\n",
    "    model=[]\n",
    "    for graph in graph_AND:# add edges in graph\n",
    "        model_AND_1=BayesianModel(graph)\n",
    "        K2=K2Score(df).score(model_AND_1)\n",
    "        score.append(K2)\n",
    "        model.append(model_AND_1)\n",
    "    # build a model with all independent variables\n",
    "    edge=[]\n",
    "    node=['f1','f2','f3','f4','f5','f6','f7','f8','f9']\n",
    "    model_AND_1=BayesianModel(edge)\n",
    "    model_AND_1.add_nodes_from(node)\n",
    "    K2=K2Score(df).score(model_AND_1)\n",
    "    score.append(K2)\n",
    "    model.append(model_AND_1)\n",
    "    return score,model\n",
    "synmodel_AND=synthesizemodel(graph_AND)\n",
    "print(\"K2 score of synthesized models\",synmodel_AND[0])\n",
    "    "
   ]
  },
  {
   "cell_type": "markdown",
   "metadata": {},
   "source": [
    "### Calculate log-likelihood"
   ]
  },
  {
   "cell_type": "code",
   "execution_count": 26,
   "metadata": {
    "collapsed": true
   },
   "outputs": [
    {
     "name": "stdout",
     "output_type": "stream",
     "text": [
      "[[0.12670565302144307, 0.3021442495126714, 0.3460038986354775, 0.225146198830408], [0.17738791423001943, 0.5165692007797271, 0.13060428849902564, 0.011695906432748543, 0.1637426900584793], [0.12865497076023452, 0.835282651072124, 0.036062378167641476], [0.34600389863547737, 0.21345029239766106, 0.10526315789473689, 0.30799220272904493, 0.027290448343079917], [0.17836257309941517, 0.03703703703703703, 0.7719298245614036, 0.01267056530214425], [0.014619883040935672, 0.20175438596491227, 0.6023391812865496, 0.18128654970760236], [0.46686159844054587, 0.3430799220272905, 0.08576998050682262, 0.10428849902534114], [0.1705653021442495, 0.23294346978557506, 0.2553606237816764, 0.20662768031189085, 0.13450292397660818], [0.22124756335282644, 0.7787524366471736]]\n",
      "[[0.12670565302144302, 0.30214424951267055, 0.3460038986354769, 0.22514619883040948], [0.17738791423001957, 0.5165692007797269, 0.13060428849902542, 0.011695906432748539, 0.16374269005847952], [0.12865497076023452, 0.8352826510721245, 0.03606237816764102], [0.34600389863547765, 0.2134502923976608, 0.10526315789473685, 0.3079922027290448, 0.02729044834307992], [0.17836257309941492, 0.03703703703703705, 0.7719298245614039, 0.012670565302144202], [0.014619883040935668, 0.20175438596491227, 0.6023391812865497, 0.18128654970760238], [0.4668615984405459, 0.34307992202729043, 0.08576998050682261, 0.10428849902534112], [0.1705653021442495, 0.23294346978557506, 0.25536062378167645, 0.20662768031189088, 0.1345029239766082], [0.22124756335282675, 0.7787524366471733]]\n",
      "[[0.12670565302144202, 0.3021442495126728, 0.3460038986354786, 0.2251461988304066], [0.1773879142300195, 0.5165692007797271, 0.13060428849902536, 0.011695906432748539, 0.16374269005847955], [0.12865497076023394, 0.8352826510721247, 0.036062378167641324], [0.34600389863547704, 0.21345029239766092, 0.10526315789473673, 0.3079922027290454, 0.02729044834307993], [0.17836257309941517, 0.03703703703703709, 0.7719298245614034, 0.012670565302144294], [0.01461988304093568, 0.2017543859649125, 0.6023391812865497, 0.18128654970760213], [0.46686159844054603, 0.3430799220272903, 0.08576998050682257, 0.10428849902534107], [0.1705653021442495, 0.23294346978557504, 0.25536062378167645, 0.20662768031189088, 0.1345029239766082], [0.22124756335282653, 0.7787524366471735]]\n",
      "[[0.12670565302144285, 0.3021442495126704, 0.3460038986354767, 0.2251461988304101], [0.1773879142300195, 0.5165692007797271, 0.1306042884990254, 0.011695906432748534, 0.1637426900584794], [0.1286549707602338, 0.835282651072125, 0.036062378167641324], [0.34600389863547687, 0.21345029239766114, 0.105263157894737, 0.307992202729045, 0.027290448343080004], [0.1783625730994149, 0.03703703703703707, 0.7719298245614039, 0.01267056530214423], [0.014619883040935672, 0.20175438596491227, 0.6023391812865498, 0.18128654970760233], [0.46686159844054587, 0.34307992202729043, 0.08576998050682261, 0.10428849902534111], [0.17056530214424953, 0.23294346978557504, 0.2553606237816764, 0.2066276803118908, 0.13450292397660824], [0.22124756335282653, 0.7787524366471734]]\n",
      "[[0.12670565302144252, 0.3021442495126705, 0.3460038986354776, 0.2251461988304094], [0.17738791423001948, 0.5165692007797271, 0.13060428849902536, 0.011695906432748539, 0.16374269005847955], [0.12865497076023394, 0.8352826510721247, 0.03606237816764134], [0.3460038986354777, 0.21345029239766072, 0.1052631578947368, 0.30799220272904493, 0.02729044834307993], [0.1783625730994152, 0.03703703703703704, 0.7719298245614036, 0.01267056530214425], [0.014619883040935654, 0.2017543859649126, 0.60233918128655, 0.18128654970760189], [0.46686159844054587, 0.3430799220272903, 0.08576998050682268, 0.10428849902534129], [0.17056530214424992, 0.2329434697855749, 0.25536062378167634, 0.20662768031189085, 0.13450292397660793], [0.22124756335282872, 0.7787524366471712]]\n",
      "[[0.12670565302144318, 0.3021442495126701, 0.34600389863547765, 0.22514619883040912], [0.17738791423001948, 0.5165692007797271, 0.13060428849902536, 0.011695906432748536, 0.1637426900584795], [0.1286549707602339, 0.8352826510721247, 0.03606237816764132], [0.3460038986354781, 0.2134502923976606, 0.10526315789473698, 0.30799220272904454, 0.02729044834307991], [0.17836257309941558, 0.037037037037037354, 0.7719298245614028, 0.012670565302144264], [0.014619883040935677, 0.20175438596491233, 0.6023391812865497, 0.1812865497076023], [0.4668615984405458, 0.3430799220272905, 0.08576998050682262, 0.10428849902534111], [0.1705653021442495, 0.2329434697855751, 0.2553606237816765, 0.2066276803118908, 0.1345029239766082], [0.2212475633528259, 0.7787524366471741]]\n"
     ]
    }
   ],
   "source": [
    "from pgmpy.estimators import BayesianEstimator,MaximumLikelihoodEstimator\n",
    "var_list=['f1','f2','f3','f4','f5','f6','f7','f8','f9'] # all variables\n",
    "freq_truth_AND=getTruefreq(df)\n",
    "\n",
    "lh_list=[] # list to record log-likelihood for all models\n",
    "for item in synmodel_AND[1]: # loop all synthesized models\n",
    "    model=item\n",
    "    \n",
    "#     estimator = BayesianEstimator(model, df)\n",
    "#     cpd_est=estimator.get_parameters(prior_type='BDeu', equivalent_sample_size=5)\n",
    "    estimator = MaximumLikelihoodEstimator(model, df)# estimate CPDs\n",
    "    cpd_est=estimator.get_parameters()\n",
    "    model.add_cpds(*cpd_est)\n",
    "    infer_AND=VariableElimination(model)\n",
    "    marginal_dict=infer_AND.query(var_list)\n",
    "    marginal_matrix=[]\n",
    "    \n",
    "    for var in var_list:\n",
    "        arr=marginal_dict[var].values.tolist()\n",
    "        marginal_matrix.append(arr)\n",
    "    print(marginal_matrix) # print the marginal probabilities\n",
    "    lh_list.append(getLikelihood_log(freq_truth_AND,marginal_matrix))"
   ]
  },
  {
   "cell_type": "code",
   "execution_count": 190,
   "metadata": {
    "scrolled": true
   },
   "outputs": [
    {
     "name": "stdout",
     "output_type": "stream",
     "text": [
      "Log likelihood for all synthesized models: \n",
      " [array([-10.25084932, -12.20943433,  -5.99764396, -12.72922177,\n",
      "        -8.34247691,  -9.14306511,  -9.88490807, -13.45781827,\n",
      "        -3.50677268]), array([-10.25084932, -12.20943433,  -5.99764396, -12.72922177,\n",
      "        -8.34247691,  -9.14306511,  -9.88490807, -13.45781827,\n",
      "        -3.50677268]), array([-10.25084932, -12.20943433,  -5.99764396, -12.72922177,\n",
      "        -8.34247691,  -9.14306511,  -9.88490807, -13.45781827,\n",
      "        -3.50677268]), array([-10.25084932, -12.20943433,  -5.99764396, -12.72922177,\n",
      "        -8.34247691,  -9.14306511,  -9.88490807, -13.45781827,\n",
      "        -3.50677268]), array([-10.25084932, -12.20943433,  -5.99764396, -12.72922177,\n",
      "        -8.34247691,  -9.14306511,  -9.88490807, -13.45781827,\n",
      "        -3.50677268]), array([-10.25084932, -12.20943433,  -5.99764396, -12.72922177,\n",
      "        -8.34247691,  -9.14306511,  -9.88490807, -13.45781827,\n",
      "        -3.50677268])]\n"
     ]
    }
   ],
   "source": [
    "print(\"Log likelihood for all synthesized models: \\n\",lh_list)"
   ]
  },
  {
   "cell_type": "code",
   "execution_count": 208,
   "metadata": {},
   "outputs": [
    {
     "name": "stderr",
     "output_type": "stream",
     "text": [
      "WARNING:root:Replacing existing CPD for f1\n",
      "WARNING:root:Replacing existing CPD for f2\n",
      "WARNING:root:Replacing existing CPD for f3\n",
      "WARNING:root:Replacing existing CPD for f4\n",
      "WARNING:root:Replacing existing CPD for f5\n",
      "WARNING:root:Replacing existing CPD for f6\n",
      "WARNING:root:Replacing existing CPD for f7\n",
      "WARNING:root:Replacing existing CPD for f8\n",
      "WARNING:root:Replacing existing CPD for f9\n"
     ]
    }
   ],
   "source": [
    "# Get log likelihood for the best model with highest k2 score\n",
    "model=best_model_K2\n",
    "    \n",
    "estimator = MaximumLikelihoodEstimator(model, df)\n",
    "cpd_est=estimator.get_parameters()\n",
    "model.add_cpds(*cpd_est)\n",
    "infer_AND=VariableElimination(model)\n",
    "marginal_dict=infer_AND.query(var_list)\n",
    "marginal_matrix=[]\n",
    "\n",
    "for var in var_list:\n",
    "    arr=marginal_dict[var].values.tolist()\n",
    "    marginal_matrix.append(arr)\n",
    "best=getLikelihood_log(freq_truth_AND,marginal_matrix)\n"
   ]
  }
 ],
 "metadata": {
  "kernelspec": {
   "display_name": "Python 3",
   "language": "python",
   "name": "python3"
  },
  "language_info": {
   "codemirror_mode": {
    "name": "ipython",
    "version": 3
   },
   "file_extension": ".py",
   "mimetype": "text/x-python",
   "name": "python",
   "nbconvert_exporter": "python",
   "pygments_lexer": "ipython3",
   "version": "3.6.5"
  }
 },
 "nbformat": 4,
 "nbformat_minor": 2
}
