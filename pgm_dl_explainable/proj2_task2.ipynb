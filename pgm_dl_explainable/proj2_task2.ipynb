{
 "cells": [
  {
   "cell_type": "code",
   "execution_count": 63,
   "metadata": {},
   "outputs": [],
   "source": [
    "import numpy as np\n",
    "import pandas as pd\n",
    "import time\n",
    "from pgmpy.inference import VariableElimination\n",
    "from pgmpy.models import BayesianModel\n",
    "from pgmpy.factors.discrete import TabularCPD\n",
    "from pgmpy.sampling import BayesianModelSampling\n",
    "from pgmpy.estimators import HillClimbSearch, ExhaustiveSearch, BicScore,BdeuScore,K2Score\n",
    "import copy\n",
    "import os"
   ]
  },
  {
   "cell_type": "markdown",
   "metadata": {},
   "source": [
    "# Generate Dataset"
   ]
  },
  {
   "cell_type": "code",
   "execution_count": 627,
   "metadata": {
    "scrolled": true
   },
   "outputs": [],
   "source": [
    "def pair_dataset(df, df_all): \n",
    "    \"\"\"\n",
    "    # Function\n",
    "    Pair the 15 feature for left and right images according to dataset\n",
    "    # Parameters\n",
    "    df: DataFrame\n",
    "        df is the dataset that contains left image name, right image name and verification label\n",
    "    df_all: DataFrame\n",
    "        df_all contains all features for each image. It has 16 columns. The first column is image name, \n",
    "        the remainings are 15 features\n",
    "    \"\"\"\n",
    "    arr_all=np.array(df_all)\n",
    "    arr=np.array(df)\n",
    "    left=np.zeros((arr.shape[0],15))\n",
    "    right=np.zeros((arr.shape[0],15))\n",
    "    label=np.zeros((arr.shape[0],1))\n",
    "    dic={}\n",
    "    for row in arr_all:# create dictionary whose key is image name, value is 15 image features\n",
    "        dic[row[0]]=row[1:]\n",
    "    for i in range(arr.shape[0]): # create two groups of 15-feature, and a verification label\n",
    "        row=arr[i,:]\n",
    "        if (row[1] not in dic) or (row[2] not in dic):\n",
    "            continue\n",
    "        left[i,:]=dic[row[1]]-1 # left img \n",
    "        right[i,:]=dic[row[2]]-1 # right img \n",
    "        label[i]=row[3]\n",
    "    res=np.hstack((label,left,right)) # joint three groups\n",
    "    return pd.DataFrame(res)\n"
   ]
  },
  {
   "cell_type": "code",
   "execution_count": 151,
   "metadata": {
    "scrolled": true
   },
   "outputs": [],
   "source": [
    "def modifyDataframe(df, single=True, haswriter=False):\n",
    "    \"\"\"\n",
    "    # Function\n",
    "    Change the column name of DataFrame according to the settings\n",
    "    # Parameters\n",
    "    df: The original DataFrame\n",
    "    single: If true, df has only one group of 15 features; otherwise, df has two groups of 15 features\n",
    "    haswriter: Only works when single=True. If it is true, add writer id as first column. Otherwise, only change\n",
    "    column names\n",
    "    \"\"\"\n",
    "    if single:\n",
    "        if haswriter:\n",
    "            data=np.array(df)\n",
    "            for i in range(data.shape[0]):\n",
    "                s=data[i,0]\n",
    "                data[i,0]=int(s[0:4])\n",
    "            data=data.astype(int)\n",
    "            df=pd.DataFrame(data,columns=['W','L1','L2','L3','L4','L5','L6','L7','L8','L9',\n",
    "                                      'L10','L11','L12','L13','L14','L15'])\n",
    "        else:\n",
    "            data=np.array(df)\n",
    "            df=df.drop(columns=[df.columns[0]])\n",
    "            df.columns=['L1','L2','L3','L4','L5','L6','L7','L8','L9',\n",
    "                                      'L10','L11','L12','L13','L14','L15']\n",
    "    else:\n",
    "        df.columns=['W','L1','L2','L3','L4','L5','L6','L7','L8','L9','L10','L11','L12','L13','L14','L15',\n",
    "                         'R1','R2','R3','R4','R5','R6','R7','R8','R9','R10','R11','R12','R13','R14','R15']\n",
    "    return df\n"
   ]
  },
  {
   "cell_type": "code",
   "execution_count": 153,
   "metadata": {
    "scrolled": true
   },
   "outputs": [],
   "source": [
    "\n",
    "cwd = os.getcwd()\n",
    "df_all=pd.read_csv(cwd+\"/15features.csv\") # Dataframe of AND features\n",
    "df_15features=modifyDataframe(df_all)\n",
    "# training data in seen\n",
    "df_seen_tr=pd.read_csv(cwd+\"/seen-dataset/dataset_seen_training_siamese.csv\")\n",
    "df_seen_tr=pair_dataset(df_seen_tr, df_all)\n",
    "df_seen_tr=modifyDataframe(df_seen_tr, False) # change feature names\n",
    "# validation data in seen\n",
    "df_seen_va=pd.read_csv(cwd+\"/seen-dataset/dataset_seen_validation_siamese.csv\")\n",
    "df_seen_va=pair_dataset(df_seen_va, df_all)\n",
    "df_seen_va=modifyDataframe(df_seen_va, False) # change feature names\n",
    "# training data in unseen\n",
    "df_unseen_tr=pd.read_csv(cwd+\"/unseen-dataset/dataset_seen_training_siamese.csv\")\n",
    "df_unseen_tr=pair_dataset(df_unseen_tr, df_all)\n",
    "df_unseen_tr=modifyDataframe(df_unseen_tr, False)\n",
    "# validation data in unseen\n",
    "df_unseen_va=pd.read_csv(cwd+\"/unseen-dataset/dataset_seen_validation_siamese.csv\")\n",
    "df_unseen_va=pair_dataset(df_unseen_va, df_all)\n",
    "df_unseen_va=modifyDataframe(df_unseen_va, False)\n",
    "# traning data in shuffled\n",
    "df_shuffle_tr=pd.read_csv(cwd+\"/shuffled-dataset/dataset_seen_training_siamese.csv\")\n",
    "df_shuffle_tr=pair_dataset(df_shuffle_tr, df_all)\n",
    "df_shuffle_tr=modifyDataframe(df_shuffle_tr, False)\n",
    "# validation data in shuffled\n",
    "df_shuffle_va=pd.read_csv(cwd+\"/shuffled-dataset/dataset_seen_validation_siamese.csv\")\n",
    "df_shuffle_va=pair_dataset(df_shuffle_va, df_all)\n",
    "df_shuffle_va=modifyDataframe(df_shuffle_va, False)"
   ]
  },
  {
   "cell_type": "markdown",
   "metadata": {},
   "source": [
    "# Build and train BN"
   ]
  },
  {
   "cell_type": "code",
   "execution_count": 119,
   "metadata": {},
   "outputs": [],
   "source": [
    "from pgmpy.estimators import BayesianEstimator,MaximumLikelihoodEstimator\n"
   ]
  },
  {
   "cell_type": "code",
   "execution_count": 602,
   "metadata": {},
   "outputs": [],
   "source": [
    "def modifyGraph(graph, feature_char='L'):\n",
    "    \"\"\"\n",
    "    # Function\n",
    "    Modify the feature names\n",
    "    # Parameter\n",
    "    graph: list of edges of original graph\n",
    "    \"\"\"\n",
    "    g=[]\n",
    "    for e in graph:\n",
    "        par=feature_char+e[0][1:]\n",
    "        child=feature_char+e[1][1:]\n",
    "        g.append((par,child))\n",
    "    return g\n",
    "def getNodeparents(graph):\n",
    "    par={}\n",
    "    for g in graph:\n",
    "        if g[1] not in par:\n",
    "            par[g[1]]=[g[0]]\n",
    "        else:\n",
    "            par[g[1]].append(g[0])\n",
    "    size={}\n",
    "    for key, val in par.items():\n",
    "        size[key]=len(val)\n",
    "    return size,par\n",
    "def getAdjList(graph):\n",
    "    child={}\n",
    "    for g in graph:\n",
    "        if g[0] not in child:\n",
    "            child[g[0]]=[g[1]]\n",
    "        else:\n",
    "            child[g[0]].append(g[1])\n",
    "    return child\n",
    "def get_BayesianModel(graph1, graph_toVerify):\n",
    "    \"\"\"\n",
    "    # Function\n",
    "    Create whole list of edges for Bayesian modeling\n",
    "    # Parameter\n",
    "    graph1: list of edges of left image\n",
    "    graph_toVerify: list of edges connecting feature nodes to verification node\n",
    "    \"\"\"\n",
    "    graph2=modifyGraph(graph1, 'R') # the mirror image of graph1\n",
    "    model=BayesianModel(graph1+graph2+graph_toVerify)\n",
    "    return model\n",
    "def Log_CPDproduct(model, df, prob_hypo, verbose=False):\n",
    "    \"\"\"\n",
    "    # Function\n",
    "    Calculate the joint probability by multiplying CPDs evalated at given variable values\n",
    "    # Parameter\n",
    "    model: Bayesian model\n",
    "    df: DataFrame\n",
    "        Traning dataset\n",
    "    prob_hypo: numpy array of probability of hypothesis\n",
    "    verbose: boolean\n",
    "        determine whether to print details\n",
    "    \"\"\"\n",
    "    cpd_list=model.get_cpds()\n",
    "    data=np.array(df)\n",
    "    col_name=list(df.columns)\n",
    "    dic_row={}# a dict stores img features(L1,R1,...) but verification\n",
    "    y_pred=np.zeros(data.shape[0]) # store predicted value\n",
    "    for i in range(data.shape[0]):#data.shape[0]\n",
    "        row=data[i,:]\n",
    "        for n in range(1,len(col_name)): \n",
    "            dic_row[col_name[n]]=int(data[i,n])\n",
    "        \n",
    "        # Add log cpd values to get log(joint probability)\n",
    "        log_joint=[-1,-1] # store log joint probability for two verification values [0,1]\n",
    "        for verify in [0,1]:\n",
    "            dic_row['W']=verify\n",
    "            log_cpd_prod=0\n",
    "            for j in range(len(cpd_list)):# loop all the CPD tables in the BN\n",
    "                cpd=cpd_list[j]\n",
    "                cpd_key=cpd.variables # ['R1','L1','W'...]\n",
    "                cpd_val=cpd.values # cpd table\n",
    "                temp_table=cpd_val\n",
    "                for k in range(len(cpd_key)):# check CPD value in one table\n",
    "                    val=dic_row[cpd_key[k]] # value for each variable in cpd_key list\n",
    "                    temp_table=temp_table[int(val)] # check next level in table, the last one is a scalar CPD value\n",
    "                log_cpd_prod=log_cpd_prod+np.log(temp_table)\n",
    "            log_joint[verify]=log_cpd_prod\n",
    "        log_joint=np.array(log_joint) # convert to numpy array\n",
    "        log_marg_verify=np.log(prob_hypo)# numpy array\n",
    "        log_likelihood=log_joint-log_marg_verify\n",
    "#         print(log_joint)\n",
    "#         print(log_marg_verify)\n",
    "#         print(log_likelihood)\n",
    "        if log_likelihood[0]>log_likelihood[1]: # first element is diff writer, second is same writer\n",
    "            y_pred[i]=0\n",
    "            if verbose:\n",
    "                print(str(i)+\"th: \",\"diff writer\")\n",
    "        elif log_likelihood[0]<log_likelihood[1]:\n",
    "            y_pred[i]=1\n",
    "            if verbose:\n",
    "                print(str(i)+\"th: \",\"same writer\")\n",
    "        else:\n",
    "            if verbose:\n",
    "                print(str(i)+\"th: \",\"equal\")\n",
    "    return y_pred\n",
    "def getAccuracy(df,y_pred):\n",
    "    \"\"\"\n",
    "    # Function\n",
    "    Calculate accruacy of prediction\n",
    "    # Parameter\n",
    "    df: DataFrame\n",
    "        the original dataset that contains true labels\n",
    "    y_pred: numpy array\n",
    "        predicted label\n",
    "    \"\"\"\n",
    "    y=np.array(df['W'])\n",
    "    right=np.where(y==y_pred)[0].shape[0]\n",
    "    return right/y.shape[0]\n",
    "def get_prob_indata(df):\n",
    "    \"\"\"\n",
    "    # Functions\n",
    "    Calculate probability of hypothesis\n",
    "    # Parameter\n",
    "    df: DataFrame\n",
    "        original dataset\n",
    "    \"\"\"\n",
    "    arr=np.array(df[\"W\"])\n",
    "    p_diff=np.where(arr==0)[0].shape[0]/arr.shape[0]\n",
    "    return np.array([p_diff,1-p_diff])"
   ]
  },
  {
   "cell_type": "code",
   "execution_count": 87,
   "metadata": {},
   "outputs": [
    {
     "name": "stdout",
     "output_type": "stream",
     "text": [
      "[('L1', 'L5'), ('L2', 'L1'), ('L3', 'L4'), ('L3', 'L7'), ('L3', 'L1'), ('L3', 'L2'), ('L3', 'L9'), ('L3', 'L14'), ('L4', 'L14'), ('L4', 'L15'), ('L4', 'L11'), ('L5', 'L10'), ('L6', 'L12'), ('L6', 'L3'), ('L6', 'L7'), ('L6', 'L9'), ('L6', 'L11'), ('L6', 'L2'), ('L6', 'L10'), ('L6', 'L4'), ('L6', 'L5'), ('L6', 'L14'), ('L7', 'L8'), ('L11', 'L15'), ('L12', 'L5'), ('L13', 'L6'), ('L13', 'L12'), ('L13', 'L3'), ('L14', 'L15'), ('L14', 'L11'), ('L14', 'L10'), ('L14', 'L12'), ('L15', 'L10'), ('L15', 'L2')]\n",
      "-140447.85183156087\n"
     ]
    }
   ],
   "source": [
    "# Search best model with 15 features\n",
    "est = HillClimbSearch(df_15features, scoring_method=BicScore(df_15features))\n",
    "best_model=est.estimate(max_indegree=None)\n",
    "print(best_model.edges())\n",
    "print(BicScore(df_15features).score(best_model))\n",
    "# BicScore(df_seen_tr).score(model)"
   ]
  },
  {
   "cell_type": "markdown",
   "metadata": {},
   "source": [
    "### Connect one feature node to verification node"
   ]
  },
  {
   "cell_type": "code",
   "execution_count": 614,
   "metadata": {},
   "outputs": [
    {
     "name": "stdout",
     "output_type": "stream",
     "text": [
      "1th feature connects verification, accuracy:  0.6567328918322296\n",
      "2th feature connects verification, accuracy:  0.7163355408388521\n"
     ]
    },
    {
     "name": "stderr",
     "output_type": "stream",
     "text": [
      "/Users/huo/.pyvenv/pgmpy/lib/python3.6/site-packages/ipykernel_launcher.py:55: RuntimeWarning: divide by zero encountered in log\n"
     ]
    },
    {
     "name": "stdout",
     "output_type": "stream",
     "text": [
      "3th feature connects verification, accuracy:  0.5573951434878587\n",
      "4th feature connects verification, accuracy:  0.7306843267108167\n",
      "5th feature connects verification, accuracy:  0.5011037527593819\n",
      "6th feature connects verification, accuracy:  0.7417218543046358\n",
      "7th feature connects verification, accuracy:  0.3852097130242826\n",
      "8th feature connects verification, accuracy:  0.4227373068432671\n",
      "9th feature connects verification, accuracy:  0.5253863134657837\n",
      "10th feature connects verification, accuracy:  0.37527593818984545\n",
      "11th feature connects verification, accuracy:  0.46467991169977924\n",
      "12th feature connects verification, accuracy:  0.8620309050772627\n",
      "13th feature connects verification, accuracy:  0.8289183222958058\n",
      "14th feature connects verification, accuracy:  0.25055187637969095\n",
      "15th feature connects verification, accuracy:  0.3454746136865342\n"
     ]
    }
   ],
   "source": [
    "# Connect one feature node to verifiction node for both left and right image. Compare accuracy, inferring time\n",
    "acc_tr=[]\n",
    "acc_va=[]\n",
    "time_train=[]\n",
    "time_infer=[]\n",
    "df_tuple=(df_seen_tr,df_seen_va)\n",
    "for i in range(1,16):\n",
    "    graph_toVerify=[('L'+str(i), 'W'), ('R'+str(i), 'W')] # connect feature nodes to verification node\n",
    "    model=get_BayesianModel(list(best_model.edges()), graph_toVerify) # build model from the complete graph\n",
    "    time_s=time.time()\n",
    "    estimator = MaximumLikelihoodEstimator(model, df_tuple[0]) # train model(cal cpds)\n",
    "    cpd_est=estimator.get_parameters()\n",
    "    time_e=time.time()\n",
    "    time_train.append(time_e-time_s)\n",
    "    \n",
    "    time_s=time.time()\n",
    "    model.add_cpds(*cpd_est)\n",
    "    inference=VariableElimination(model)\n",
    "    y_pred=Log_CPDproduct(model, df_tuple[1], get_prob_indata(df_tuple[0]))# predict labels\n",
    "    time_e=time.time()\n",
    "    time_infer.append(time_e-time_s)\n",
    "    \n",
    "    acc=getAccuracy(df_tuple[1],y_pred)# calcualte accuracy\n",
    "    acc_va.append(acc)\n",
    "    print(str(i)+\"th feature connects verification, accuracy: \",acc)"
   ]
  },
  {
   "cell_type": "code",
   "execution_count": 529,
   "metadata": {},
   "outputs": [
    {
     "name": "stdout",
     "output_type": "stream",
     "text": [
      "Average training time:  0.1868833541870117\n",
      "Average inferring time:  6.045334688822428\n"
     ]
    }
   ],
   "source": [
    "print(\"Average training time: \",np.mean(np.array(time_train)))\n",
    "print(\"Average inferring time: \",np.mean(np.array(time_infer)))"
   ]
  },
  {
   "cell_type": "code",
   "execution_count": 532,
   "metadata": {},
   "outputs": [
    {
     "data": {
      "image/png": "[encoded data removed]",
      "text/plain": [
       "<Figure size 576x432 with 1 Axes>"
      ]
     },
     "metadata": {
      "needs_background": "light"
     },
     "output_type": "display_data"
    }
   ],
   "source": [
    "import matplotlib.pyplot as plt\n",
    "\n",
    "yplot=acc_seen_va\n",
    "yplot2=acc_unseen_va\n",
    "xplot=[]\n",
    "\n",
    "for i in range(len(yplot)):\n",
    "    xplot.append(\"f\"+str(i+1))\n",
    "plt.figure(figsize=(8,6))\n",
    "plt.plot(xplot,yplot,color='b',marker='o',label=\"seen dataset\")\n",
    "plt.plot(xplot,yplot2,color='r',marker='o',label=\"unseen dataset\")\n",
    "plt.xlabel(\"Node connected to verification node\", fontsize=15)\n",
    "plt.ylabel(\"Accuracy\", fontsize=15)\n",
    "plt.tick_params(labelsize=12)\n",
    "plt.legend(fontsize=15)\n",
    "\n",
    "plt.show()"
   ]
  },
  {
   "cell_type": "markdown",
   "metadata": {},
   "source": [
    "### Connect multiple feature nodes to verification node"
   ]
  },
  {
   "cell_type": "code",
   "execution_count": 628,
   "metadata": {
    "scrolled": true
   },
   "outputs": [
    {
     "name": "stdout",
     "output_type": "stream",
     "text": [
      "Training time:  20.83700203895569\n"
     ]
    },
    {
     "name": "stderr",
     "output_type": "stream",
     "text": [
      "/Users/huo/.pyvenv/pgmpy/lib/python3.6/site-packages/ipykernel_launcher.py:55: RuntimeWarning: divide by zero encountered in log\n"
     ]
    },
    {
     "name": "stdout",
     "output_type": "stream",
     "text": [
      "Inferring time:  0.3515510559082031\n",
      "Accuracy:  0.9679911699779249\n"
     ]
    }
   ],
   "source": [
    "df_tuple=(df_seen_tr,df_seen_va)\n",
    "graph_toVerify=[('L13', 'W'),('R13', 'W'),('L12', 'W'),('R12', 'W'),('L6', 'W'),('R6', 'W'),\n",
    "                ('L7', 'W'),('R7', 'W')] # feature nodes connected to the verification node\n",
    "model=get_BayesianModel(list(best_model.edges()), graph_toVerify) # build model from the complete graph\n",
    "time_s=time.time()\n",
    "estimator = MaximumLikelihoodEstimator(model, df_tuple[0]) # train model(cal cpds)\n",
    "cpd_est=estimator.get_parameters()\n",
    "time_e=time.time()\n",
    "print(\"Training time: \", time_e-time_s)\n",
    "\n",
    "\n",
    "time_s=time.time()\n",
    "model.add_cpds(*cpd_est)\n",
    "inference=VariableElimination(model)\n",
    "y_pred=Log_CPDproduct(model, df_tuple[1], get_prob_indata(df_tuple[0]))\n",
    "time_e=time.time()\n",
    "print(\"Inferring time: \", time_e-time_s)\n",
    "\n",
    "print(\"Accuracy: \",getAccuracy(df_tuple[1],y_pred))"
   ]
  }
 ],
 "metadata": {
  "kernelspec": {
   "display_name": "Python 3",
   "language": "python",
   "name": "python3"
  },
  "language_info": {
   "codemirror_mode": {
    "name": "ipython",
    "version": 3
   },
   "file_extension": ".py",
   "mimetype": "text/x-python",
   "name": "python",
   "nbconvert_exporter": "python",
   "pygments_lexer": "ipython3",
   "version": "3.6.5"
  }
 },
 "nbformat": 4,
 "nbformat_minor": 2
}
